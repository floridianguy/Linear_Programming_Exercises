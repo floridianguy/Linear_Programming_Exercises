{
 "cells": [
  {
   "cell_type": "code",
   "execution_count": 1,
   "metadata": {},
   "outputs": [],
   "source": [
    "import numpy as np\n",
    "from scipy.optimize import linprog"
   ]
  },
  {
   "cell_type": "markdown",
   "metadata": {},
   "source": [
    "#### Assignment\n",
    "Find or create an interesting real-world application of systems of linear inequalities related to data science or an area of interest to you. Provide a detailed description of the scenario and model the situation. Solve the system and interpret the results."
   ]
  },
  {
   "cell_type": "markdown",
   "metadata": {},
   "source": [
    "#### The following is a simplified example from the insurance industry."
   ]
  },
  {
   "cell_type": "markdown",
   "metadata": {},
   "source": [
    "Goal:  keep a balanced book of business with a certain amount of premium\n",
    "\n",
    "Variables:   CAT, Non-CAT Property, Surety & Liability Premiums"
   ]
  },
  {
   "cell_type": "markdown",
   "metadata": {},
   "source": [
    "An insurance company charges the following premiums for different types of policies:\n",
    "\n",
    "- 15 for catastrophe coverage (flood, EQ, etc.) with 5000 in exposure  (x1)\n",
    "- 5 for regular property coverage (fire, theft, etc.) with 1000 in exposure (x2)\n",
    "- 20 for a surety policy with 3000 in exposure (x3)\n",
    "- 20 for a third party liability policy with 2000 in exposure (x4)\n",
    "\n",
    "The company is trying to maximize premium income, so w = 15x1 + 5x2 + 20x3 + 20x4.\n",
    "\n",
    "To keep administrative costs low the company doesn't plan to issue more than 2million policies, so x1 + x2 + x3 + x4 ≤ 2,000,000\n",
    "\n",
    "Total exposure is not to exceed USD $2 billion so 5000x1 + 1000x2 + 3000x3 + 2000x4 ≤ 2,000,000,000.\n",
    "\n",
    "The company is first and foremost a property insurer so most of the policies will be for property and natural catastrophe coverage.  In order to keep the portfolio of risks balanced, the following guidelines will be applied.  This is shown in the bounds section of the code.\n",
    "\n",
    "- number of natural catastrophe policies: minimum of 200,000 and max of 500,000\n",
    "- number of regular property policies: minimum of 250,000 and max of 500,000\n",
    "- number of surety policies: minimum of 50,000 and max of 200,000\n",
    "- number of liability policies: minimum of 100,000 and max of 500,000\n"
   ]
  },
  {
   "cell_type": "code",
   "execution_count": 2,
   "metadata": {},
   "outputs": [],
   "source": [
    "# this one is based on number of policies\n",
    "# start with optimization section\n",
    "w = [-15, -5, -20, -20]\n",
    "\n",
    "lhs = np.array([[1, 1, 1, 1], [5000, 1000, 3000, 2000]])\n",
    "rhs = np.array([[int(2e6)], [int(2e9)]])\n",
    "\n",
    "x1_bounds = (int(2e5), int(5e5))\n",
    "x2_bounds = (int(2.5e5), int(5e5))\n",
    "x3_bounds = (int(5e4), int(2e5))\n",
    "x4_bounds = (int(1e5), int(5e5))"
   ]
  },
  {
   "cell_type": "code",
   "execution_count": 3,
   "metadata": {},
   "outputs": [],
   "source": [
    "res = linprog(c=w, A_ub=lhs, b_ub=rhs, bounds=(x1_bounds, x2_bounds, x3_bounds, x4_bounds))"
   ]
  },
  {
   "cell_type": "code",
   "execution_count": 4,
   "metadata": {},
   "outputs": [
    {
     "name": "stdout",
     "output_type": "stream",
     "text": [
      "     fun: -11250000.000000002\n",
      " message: 'Optimization terminated successfully.'\n",
      "     nit: 6\n",
      "   slack: array([1200000.,       0.,  300000.,  250000.,  150000.,  200000.,\n",
      "             0.,       0.,  200000.,       0.])\n",
      "  status: 0\n",
      " success: True\n",
      "       x: array([200000., 250000.,  50000., 300000.])\n"
     ]
    }
   ],
   "source": [
    "print(res)"
   ]
  },
  {
   "cell_type": "code",
   "execution_count": 25,
   "metadata": {},
   "outputs": [
    {
     "name": "stdout",
     "output_type": "stream",
     "text": [
      "The company should issue 200000 catastrophe policies, 250000 non-CAT property policies 50000 surety policies and 300000 liability policies.\n",
      "\n",
      "Under this scenario the total income will be 11250000 dollars.\n"
     ]
    }
   ],
   "source": [
    "print('The company should issue', int(res.x[0]), 'catastrophe policies,', int(res.x[1]), 'non-CAT property policies',\n",
    "     int(res.x[2]), 'surety policies and', int(res.x[3]), 'liability policies.\\n')\n",
    "print('Under this scenario the total income will be', -int(res.fun), 'dollars.')\n"
   ]
  },
  {
   "cell_type": "markdown",
   "metadata": {},
   "source": [
    "The following article was helpful:\n",
    "\n",
    "https://stackoverflow.com/questions/48966934/solve-a-system-of-linear-equations-and-linear-inequalities"
   ]
  }
 ],
 "metadata": {
  "kernelspec": {
   "display_name": "Python 3",
   "language": "python",
   "name": "python3"
  },
  "language_info": {
   "codemirror_mode": {
    "name": "ipython",
    "version": 3
   },
   "file_extension": ".py",
   "mimetype": "text/x-python",
   "name": "python",
   "nbconvert_exporter": "python",
   "pygments_lexer": "ipython3",
   "version": "3.6.7"
  }
 },
 "nbformat": 4,
 "nbformat_minor": 2
}
