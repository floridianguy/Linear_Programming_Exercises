{
 "cells": [
  {
   "cell_type": "markdown",
   "metadata": {},
   "source": [
    "### Claim Reps at A+ Insurance Company"
   ]
  },
  {
   "cell_type": "markdown",
   "metadata": {},
   "source": [
    "#### Lately the management at A+ Insurance Company has heard considerable grubling from its Claims department.  The chief complaint is an overworked staff.  A senior manager asked one of the actuaries to determine how many claims reps should be on staff.  The claims adjusters are classified as either *expert* (a), *experienced* (b), or *junior* (c).\n",
    "\n",
    "The Chief Claims Officer stated that they need around 200 claims reps in total on staff.  The Chief Operations Officer asserted that a total closer to 150 would keep the expense ratio in line with the budget, so the actuary used 150 as the total number of claims adjusters."
   ]
  },
  {
   "cell_type": "markdown",
   "metadata": {},
   "source": [
    "1. Number of total claims reps:\n",
    "\n",
    "   #### a + b + c = 150\n",
    "   \n",
    "\n",
    "2. The average annual salary for an expert claims adjuster is USD 110,000, for an experienced adjuster it is USD 60,000 and for a junior adjuster it is USD 40,000.  The annual budget is USD 8,400,000.\n",
    "\n",
    "   #### 110,000 * a + 60,000 * b + 40,000 * c = 8,400,000\n",
    "   \n",
    "\n",
    "3. The company had about 15,000 claims last year and expects a similar figure this year.  Expert adjusters handle large, commercial claims so they only handle about 3 per month.  Experienced adjusters handle 5 per month and junior adjusters handle 12 relatively small claims per month.  The annualized figures are as follows:\n",
    "\n",
    "   #### 36 * a + 60 * b + 144 * c = 15,000"
   ]
  },
  {
   "cell_type": "code",
   "execution_count": 1,
   "metadata": {},
   "outputs": [],
   "source": [
    "import numpy as np"
   ]
  },
  {
   "cell_type": "code",
   "execution_count": 2,
   "metadata": {},
   "outputs": [],
   "source": [
    "c = np.array([1, 1, 1, int(1.1e5), int(6e4), int(4e4), 36, 60, 144])\n",
    "c = c.reshape(3, 3)\n",
    "\n",
    "d = np.array([150, int(8.4e6), 15000])\n",
    "d = d.reshape(3, 1)"
   ]
  },
  {
   "cell_type": "code",
   "execution_count": 3,
   "metadata": {},
   "outputs": [],
   "source": [
    "solution = np.linalg.solve(c, d)\n",
    "solution = np.rint(solution)"
   ]
  },
  {
   "cell_type": "code",
   "execution_count": 4,
   "metadata": {},
   "outputs": [
    {
     "name": "stdout",
     "output_type": "stream",
     "text": [
      "[[19.]\n",
      " [55.]\n",
      " [77.]]\n"
     ]
    }
   ],
   "source": [
    "print(solution)"
   ]
  },
  {
   "cell_type": "markdown",
   "metadata": {},
   "source": [
    "It appears that A+ Insurance can get by with a total of 151 claims adjusters: 19 experts, 55 experienced and 77 junior.  The Chief Claims Officer was not too pleased to hear the news since he was looking to expand his little empire."
   ]
  }
 ],
 "metadata": {
  "kernelspec": {
   "display_name": "Python 3",
   "language": "python",
   "name": "python3"
  },
  "language_info": {
   "codemirror_mode": {
    "name": "ipython",
    "version": 3
   },
   "file_extension": ".py",
   "mimetype": "text/x-python",
   "name": "python",
   "nbconvert_exporter": "python",
   "pygments_lexer": "ipython3",
   "version": "3.6.7"
  }
 },
 "nbformat": 4,
 "nbformat_minor": 2
}
